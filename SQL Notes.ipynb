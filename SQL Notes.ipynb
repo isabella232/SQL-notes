{
 "cells": [
  {
   "cell_type": "markdown",
   "metadata": {},
   "source": [
    "# SQL Essentials"
   ]
  },
  {
   "cell_type": "markdown",
   "metadata": {},
   "source": [
    "- `SQL` stands for Structured Query Language.\n",
    "- `SQL` is a standard language for storing, manipulating and retrieving data in databases.\n",
    "- `SQL` is **NOT** case sensitive. `SELECT` is the same as `select`."
   ]
  },
  {
   "cell_type": "markdown",
   "metadata": {},
   "source": [
    "What can `SQL` do?\n",
    "- Execute queries against a database\n",
    "- Retrieve data from a database\n",
    "- Insert records in a database\n",
    "- Update records in a database\n",
    "- Delete records from a database\n",
    "- Create new databases\n",
    "- Create new tables in a database\n",
    "- Create stored procedures in a database\n",
    "- Create views in a database\n",
    "- Set permissions on tables, procedures, and views"
   ]
  },
  {
   "cell_type": "markdown",
   "metadata": {},
   "source": [
    "# Requirements\n",
    "We will be using **Northwind** database to practice our SQL skills through SQLite. The Northwind database consists of 12 tables with a lot of **fields** (column) and hundreds of **records** (rows) that we can use for query.\n",
    "\n"
   ]
  },
  {
   "cell_type": "code",
   "execution_count": null,
   "metadata": {},
   "outputs": [],
   "source": [
    "!pip install pandas\n",
    "!pip install sqlalchemy  # ORM for database\n",
    "!pip install ipython-sql # SQL magic function"
   ]
  },
  {
   "cell_type": "markdown",
   "metadata": {},
   "source": [
    "ipython-sql introduces a `%sql`(for single-line command) and `%%sql`(for multiple-line commands) magic to our Jupyter notebook allowing us to connect to a database, using SQLAlchemy connect strings, then issue SQL commands within iPython or iPython Notebook."
   ]
  },
  {
   "cell_type": "markdown",
   "metadata": {},
   "source": [
    "## SQL Extension"
   ]
  },
  {
   "cell_type": "code",
   "execution_count": 1,
   "metadata": {},
   "outputs": [],
   "source": [
    "%load_ext sql"
   ]
  },
  {
   "cell_type": "markdown",
   "metadata": {},
   "source": [
    "## Connect to Database"
   ]
  },
  {
   "cell_type": "code",
   "execution_count": 2,
   "metadata": {},
   "outputs": [],
   "source": [
    "%sql sqlite:///northwind.db"
   ]
  },
  {
   "cell_type": "markdown",
   "metadata": {},
   "source": [
    "A database most often contains one or more tables. Each table is identified by a name (e.g. \"Customers\" or \"Orders\"). Tables contain **records** (rows) with data.\n",
    "\n",
    "The following will print out the column information for a specific table inside the database."
   ]
  },
  {
   "cell_type": "code",
   "execution_count": 3,
   "metadata": {
    "scrolled": false
   },
   "outputs": [
    {
     "name": "stdout",
     "output_type": "stream",
     "text": [
      " * sqlite:///northwind.db\n",
      "Done.\n"
     ]
    },
    {
     "data": {
      "text/html": [
       "<table>\n",
       "    <tr>\n",
       "        <th>cid</th>\n",
       "        <th>name</th>\n",
       "        <th>type</th>\n",
       "        <th>notnull</th>\n",
       "        <th>dflt_value</th>\n",
       "        <th>pk</th>\n",
       "    </tr>\n",
       "    <tr>\n",
       "        <td>0</td>\n",
       "        <td>CustomerID</td>\n",
       "        <td>nchar(5)</td>\n",
       "        <td>1</td>\n",
       "        <td>None</td>\n",
       "        <td>1</td>\n",
       "    </tr>\n",
       "    <tr>\n",
       "        <td>1</td>\n",
       "        <td>CompanyName</td>\n",
       "        <td>nvarchar(40)</td>\n",
       "        <td>1</td>\n",
       "        <td>None</td>\n",
       "        <td>0</td>\n",
       "    </tr>\n",
       "    <tr>\n",
       "        <td>2</td>\n",
       "        <td>ContactName</td>\n",
       "        <td>nvarchar(30)</td>\n",
       "        <td>0</td>\n",
       "        <td>None</td>\n",
       "        <td>0</td>\n",
       "    </tr>\n",
       "    <tr>\n",
       "        <td>3</td>\n",
       "        <td>ContactTitle</td>\n",
       "        <td>nvarchar(30)</td>\n",
       "        <td>0</td>\n",
       "        <td>None</td>\n",
       "        <td>0</td>\n",
       "    </tr>\n",
       "    <tr>\n",
       "        <td>4</td>\n",
       "        <td>Address</td>\n",
       "        <td>nvarchar(60)</td>\n",
       "        <td>0</td>\n",
       "        <td>None</td>\n",
       "        <td>0</td>\n",
       "    </tr>\n",
       "    <tr>\n",
       "        <td>5</td>\n",
       "        <td>City</td>\n",
       "        <td>nvarchar(15)</td>\n",
       "        <td>0</td>\n",
       "        <td>None</td>\n",
       "        <td>0</td>\n",
       "    </tr>\n",
       "    <tr>\n",
       "        <td>6</td>\n",
       "        <td>Region</td>\n",
       "        <td>nvarchar(15)</td>\n",
       "        <td>0</td>\n",
       "        <td>None</td>\n",
       "        <td>0</td>\n",
       "    </tr>\n",
       "    <tr>\n",
       "        <td>7</td>\n",
       "        <td>PostalCode</td>\n",
       "        <td>nvarchar(10)</td>\n",
       "        <td>0</td>\n",
       "        <td>None</td>\n",
       "        <td>0</td>\n",
       "    </tr>\n",
       "    <tr>\n",
       "        <td>8</td>\n",
       "        <td>Country</td>\n",
       "        <td>nvarchar(15)</td>\n",
       "        <td>0</td>\n",
       "        <td>None</td>\n",
       "        <td>0</td>\n",
       "    </tr>\n",
       "    <tr>\n",
       "        <td>9</td>\n",
       "        <td>Phone</td>\n",
       "        <td>nvarchar(24)</td>\n",
       "        <td>0</td>\n",
       "        <td>None</td>\n",
       "        <td>0</td>\n",
       "    </tr>\n",
       "    <tr>\n",
       "        <td>10</td>\n",
       "        <td>Fax</td>\n",
       "        <td>nvarchar(24)</td>\n",
       "        <td>0</td>\n",
       "        <td>None</td>\n",
       "        <td>0</td>\n",
       "    </tr>\n",
       "</table>"
      ],
      "text/plain": [
       "[(0, 'CustomerID', 'nchar(5)', 1, None, 1),\n",
       " (1, 'CompanyName', 'nvarchar(40)', 1, None, 0),\n",
       " (2, 'ContactName', 'nvarchar(30)', 0, None, 0),\n",
       " (3, 'ContactTitle', 'nvarchar(30)', 0, None, 0),\n",
       " (4, 'Address', 'nvarchar(60)', 0, None, 0),\n",
       " (5, 'City', 'nvarchar(15)', 0, None, 0),\n",
       " (6, 'Region', 'nvarchar(15)', 0, None, 0),\n",
       " (7, 'PostalCode', 'nvarchar(10)', 0, None, 0),\n",
       " (8, 'Country', 'nvarchar(15)', 0, None, 0),\n",
       " (9, 'Phone', 'nvarchar(24)', 0, None, 0),\n",
       " (10, 'Fax', 'nvarchar(24)', 0, None, 0)]"
      ]
     },
     "execution_count": 3,
     "metadata": {},
     "output_type": "execute_result"
    }
   ],
   "source": [
    "%sql PRAGMA table_info(Customers);"
   ]
  },
  {
   "cell_type": "markdown",
   "metadata": {},
   "source": [
    "### SQL General Data Types\n",
    "<br>\n",
    "\n",
    "| Data Type | Description |\n",
    "| :-: | :- | \n",
    "| CHAR(*n*)  | \tCharacter string. Fixed-length *n*.|\n",
    "| VARCHAR(*n*) | Character string. Variable length. Maximum length *n*. |\n",
    "| INT  | Integer numerical (no decimal). Precision 10.|\n",
    "| SMALLINT  | Integer numerical (no decimal). Precision 5. |\n",
    "| BIGINT   |  Integer numerical (no decimal). Precision 19. |\n",
    "| DECIMAL(*p,s*) | Exact numerical, precision *p*, scale *s*. |\n",
    "| FLOAT | Approximate numerical. Precision 16.|\n",
    "|REAL |\tApproximate numerical. Precision 7.|\n",
    "|TEXT\t| Holds a string with a maximum length of 65,535 characters.|\n",
    "| DATETIME\t| A date and time combination. Format: YYYY-MM-DD HH:MI:SS|\n",
    "| IMAGE\t| Variable width binary string that holds 2GB data.|\n",
    "| BIT\t| Integer that can be 0, 1, or NULL.|\n",
    "| MONEY\t| Monetary data from -922,337,203,685,477.5808 to 922,337,203,685,477.5807.|\t\n",
    " "
   ]
  },
  {
   "cell_type": "markdown",
   "metadata": {},
   "source": [
    "# SQL Syntax"
   ]
  },
  {
   "cell_type": "markdown",
   "metadata": {},
   "source": [
    "Most of the actions we need to perform on a database are done with SQL statements. In this note, we will be using `MySQL` database system."
   ]
  },
  {
   "cell_type": "markdown",
   "metadata": {},
   "source": [
    "## SELECT Clause\n",
    "- Used to select data from a database.\n",
    "- Data returned stored in a result table, called the **result-set**."
   ]
  },
  {
   "cell_type": "markdown",
   "metadata": {},
   "source": [
    "### SELECT Syntax\n",
    "```sql\n",
    "SELECT column_name(s)\n",
    "FROM table_name;\n",
    "```\n",
    "For `column_name(s)`, use `SELECT *` to print out all columns."
   ]
  },
  {
   "cell_type": "markdown",
   "metadata": {},
   "source": [
    "Use `LIMIT` to specify how many rows to be printed.\n",
    "```sql\n",
    "SELECT column_name(s)\n",
    "FROM table_name\n",
    "LIMIT number;\n",
    "```"
   ]
  },
  {
   "cell_type": "markdown",
   "metadata": {},
   "source": [
    "### Example\n",
    "Get 5 customers from `Customers` table."
   ]
  },
  {
   "cell_type": "code",
   "execution_count": 17,
   "metadata": {
    "scrolled": false
   },
   "outputs": [
    {
     "name": "stdout",
     "output_type": "stream",
     "text": [
      " * sqlite:///northwind.db\n",
      "Done.\n"
     ]
    },
    {
     "data": {
      "text/html": [
       "<table>\n",
       "    <tr>\n",
       "        <th>CustomerID</th>\n",
       "        <th>CompanyName</th>\n",
       "        <th>ContactName</th>\n",
       "        <th>ContactTitle</th>\n",
       "        <th>Address</th>\n",
       "        <th>City</th>\n",
       "        <th>Region</th>\n",
       "        <th>PostalCode</th>\n",
       "        <th>Country</th>\n",
       "        <th>Phone</th>\n",
       "        <th>Fax</th>\n",
       "    </tr>\n",
       "    <tr>\n",
       "        <td>ALFKI</td>\n",
       "        <td>Alfreds Futterkiste</td>\n",
       "        <td>Maria Anders</td>\n",
       "        <td>Sales Representative</td>\n",
       "        <td>Obere Str. 57</td>\n",
       "        <td>Berlin</td>\n",
       "        <td>None</td>\n",
       "        <td>12209</td>\n",
       "        <td>Germany</td>\n",
       "        <td>030-0074321</td>\n",
       "        <td>030-0076545</td>\n",
       "    </tr>\n",
       "    <tr>\n",
       "        <td>ANATR</td>\n",
       "        <td>Ana Trujillo Emparedados y helados</td>\n",
       "        <td>Ana Trujillo</td>\n",
       "        <td>Owner</td>\n",
       "        <td>Avda. de la Constitución 2222</td>\n",
       "        <td>México D.F.</td>\n",
       "        <td>None</td>\n",
       "        <td>05021</td>\n",
       "        <td>Mexico</td>\n",
       "        <td>(5) 555-4729</td>\n",
       "        <td>(5) 555-3745</td>\n",
       "    </tr>\n",
       "    <tr>\n",
       "        <td>ANTON</td>\n",
       "        <td>Antonio Moreno Taquería</td>\n",
       "        <td>Inigo Montoya</td>\n",
       "        <td>Owner</td>\n",
       "        <td>Mataderos  2312</td>\n",
       "        <td>México D.F.</td>\n",
       "        <td>None</td>\n",
       "        <td>05023</td>\n",
       "        <td>Mexico</td>\n",
       "        <td>(5) 555-3932</td>\n",
       "        <td>None</td>\n",
       "    </tr>\n",
       "    <tr>\n",
       "        <td>AROUT</td>\n",
       "        <td>Around the Horn</td>\n",
       "        <td>Thomas Hardy</td>\n",
       "        <td>Sales Representative</td>\n",
       "        <td>120 Hanover Sq.</td>\n",
       "        <td>London</td>\n",
       "        <td>None</td>\n",
       "        <td>WA1 1DP</td>\n",
       "        <td>UK</td>\n",
       "        <td>(171) 555-7788</td>\n",
       "        <td>(171) 555-6750</td>\n",
       "    </tr>\n",
       "    <tr>\n",
       "        <td>BERGS</td>\n",
       "        <td>Berglunds snabbköp</td>\n",
       "        <td>Christina Berglund</td>\n",
       "        <td>Order Administrator</td>\n",
       "        <td>Berguvsvägen  8</td>\n",
       "        <td>Luleå</td>\n",
       "        <td>None</td>\n",
       "        <td>S-958 22</td>\n",
       "        <td>Sweden</td>\n",
       "        <td>0921-12 34 65</td>\n",
       "        <td>0921-12 34 67</td>\n",
       "    </tr>\n",
       "</table>"
      ],
      "text/plain": [
       "[('ALFKI', 'Alfreds Futterkiste', 'Maria Anders', 'Sales Representative', 'Obere Str. 57', 'Berlin', None, '12209', 'Germany', '030-0074321', '030-0076545'),\n",
       " ('ANATR', 'Ana Trujillo Emparedados y helados', 'Ana Trujillo', 'Owner', 'Avda. de la Constitución 2222', 'México D.F.', None, '05021', 'Mexico', '(5) 555-4729', '(5) 555-3745'),\n",
       " ('ANTON', 'Antonio Moreno Taquería', 'Inigo Montoya', 'Owner', 'Mataderos  2312', 'México D.F.', None, '05023', 'Mexico', '(5) 555-3932', None),\n",
       " ('AROUT', 'Around the Horn', 'Thomas Hardy', 'Sales Representative', '120 Hanover Sq.', 'London', None, 'WA1 1DP', 'UK', '(171) 555-7788', '(171) 555-6750'),\n",
       " ('BERGS', 'Berglunds snabbköp', 'Christina Berglund', 'Order Administrator', 'Berguvsvägen  8', 'Luleå', None, 'S-958 22', 'Sweden', '0921-12 34 65', '0921-12 34 67')]"
      ]
     },
     "execution_count": 17,
     "metadata": {},
     "output_type": "execute_result"
    }
   ],
   "source": [
    "%%sql\n",
    "SELECT * FROM Customers\n",
    "LIMIT 5;"
   ]
  },
  {
   "cell_type": "markdown",
   "metadata": {},
   "source": [
    "To select only unique values (no duplicate), use `DISTINCT`.\n",
    "```sql\n",
    "SELECT DISTINCT column_name(s)\n",
    "FROM table_name;\n",
    "```"
   ]
  },
  {
   "cell_type": "markdown",
   "metadata": {},
   "source": [
    "### Example\n",
    "Get all **unique** `Country` from `Customers` table."
   ]
  },
  {
   "cell_type": "code",
   "execution_count": 18,
   "metadata": {
    "scrolled": false
   },
   "outputs": [
    {
     "name": "stdout",
     "output_type": "stream",
     "text": [
      " * sqlite:///northwind.db\n",
      "Done.\n"
     ]
    },
    {
     "data": {
      "text/html": [
       "<table>\n",
       "    <tr>\n",
       "        <th>Country</th>\n",
       "    </tr>\n",
       "    <tr>\n",
       "        <td>Germany</td>\n",
       "    </tr>\n",
       "    <tr>\n",
       "        <td>Mexico</td>\n",
       "    </tr>\n",
       "    <tr>\n",
       "        <td>UK</td>\n",
       "    </tr>\n",
       "    <tr>\n",
       "        <td>Sweden</td>\n",
       "    </tr>\n",
       "    <tr>\n",
       "        <td>France</td>\n",
       "    </tr>\n",
       "    <tr>\n",
       "        <td>Spain</td>\n",
       "    </tr>\n",
       "    <tr>\n",
       "        <td>Canada</td>\n",
       "    </tr>\n",
       "    <tr>\n",
       "        <td>Argentina</td>\n",
       "    </tr>\n",
       "    <tr>\n",
       "        <td>Switzerland</td>\n",
       "    </tr>\n",
       "    <tr>\n",
       "        <td>Brazil</td>\n",
       "    </tr>\n",
       "    <tr>\n",
       "        <td>Austria</td>\n",
       "    </tr>\n",
       "    <tr>\n",
       "        <td>Italy</td>\n",
       "    </tr>\n",
       "    <tr>\n",
       "        <td>Portugal</td>\n",
       "    </tr>\n",
       "    <tr>\n",
       "        <td>USA</td>\n",
       "    </tr>\n",
       "    <tr>\n",
       "        <td>Venezuela</td>\n",
       "    </tr>\n",
       "    <tr>\n",
       "        <td>Ireland</td>\n",
       "    </tr>\n",
       "    <tr>\n",
       "        <td>Belgium</td>\n",
       "    </tr>\n",
       "    <tr>\n",
       "        <td>Norway</td>\n",
       "    </tr>\n",
       "    <tr>\n",
       "        <td>Denmark</td>\n",
       "    </tr>\n",
       "    <tr>\n",
       "        <td>Finland</td>\n",
       "    </tr>\n",
       "    <tr>\n",
       "        <td>Poland</td>\n",
       "    </tr>\n",
       "</table>"
      ],
      "text/plain": [
       "[('Germany',),\n",
       " ('Mexico',),\n",
       " ('UK',),\n",
       " ('Sweden',),\n",
       " ('France',),\n",
       " ('Spain',),\n",
       " ('Canada',),\n",
       " ('Argentina',),\n",
       " ('Switzerland',),\n",
       " ('Brazil',),\n",
       " ('Austria',),\n",
       " ('Italy',),\n",
       " ('Portugal',),\n",
       " ('USA',),\n",
       " ('Venezuela',),\n",
       " ('Ireland',),\n",
       " ('Belgium',),\n",
       " ('Norway',),\n",
       " ('Denmark',),\n",
       " ('Finland',),\n",
       " ('Poland',)]"
      ]
     },
     "execution_count": 18,
     "metadata": {},
     "output_type": "execute_result"
    }
   ],
   "source": [
    "%%sql\n",
    "SELECT DISTINCT Country FROM Customers;"
   ]
  },
  {
   "cell_type": "markdown",
   "metadata": {},
   "source": [
    "`COUNT()` returns the number of rows from the selected column.\n",
    "```sql\n",
    "SELECT COUNT(DISTINCT column_name)\n",
    "FROM table_name;\n",
    "```\n",
    "or use this to print the result as an assigned column name.\n",
    "```sql\n",
    "SELECT COUNT(*) AS DistinctColumn\n",
    "FROM (SELECT DISTINCT column_name FROM table_name);\n",
    "```"
   ]
  },
  {
   "cell_type": "markdown",
   "metadata": {},
   "source": [
    "### Example\n",
    "Get total number of `Country` from `Customers` table."
   ]
  },
  {
   "cell_type": "code",
   "execution_count": 39,
   "metadata": {},
   "outputs": [
    {
     "name": "stdout",
     "output_type": "stream",
     "text": [
      " * sqlite:///northwind.db\n",
      "Done.\n"
     ]
    },
    {
     "data": {
      "text/html": [
       "<table>\n",
       "    <tr>\n",
       "        <th>Total</th>\n",
       "    </tr>\n",
       "    <tr>\n",
       "        <td>94</td>\n",
       "    </tr>\n",
       "</table>"
      ],
      "text/plain": [
       "[(94,)]"
      ]
     },
     "execution_count": 39,
     "metadata": {},
     "output_type": "execute_result"
    }
   ],
   "source": [
    "%%sql\n",
    "SELECT COUNT(Country) AS Total\n",
    "FROM Customers;"
   ]
  },
  {
   "cell_type": "markdown",
   "metadata": {},
   "source": [
    "### Example\n",
    "Get total number of **unique** `Country` from `Customers` table."
   ]
  },
  {
   "cell_type": "code",
   "execution_count": 40,
   "metadata": {},
   "outputs": [
    {
     "name": "stdout",
     "output_type": "stream",
     "text": [
      " * sqlite:///northwind.db\n",
      "Done.\n"
     ]
    },
    {
     "data": {
      "text/html": [
       "<table>\n",
       "    <tr>\n",
       "        <th>Total</th>\n",
       "    </tr>\n",
       "    <tr>\n",
       "        <td>21</td>\n",
       "    </tr>\n",
       "</table>"
      ],
      "text/plain": [
       "[(21,)]"
      ]
     },
     "execution_count": 40,
     "metadata": {},
     "output_type": "execute_result"
    }
   ],
   "source": [
    "%%sql\n",
    "SELECT COUNT(DISTINCT Country) AS Total\n",
    "FROM Customers;"
   ]
  },
  {
   "cell_type": "markdown",
   "metadata": {},
   "source": [
    "## WHERE clause\n",
    "- Used to filter records.\n",
    "- Also used to extract only those records that fulfill a specified condition."
   ]
  },
  {
   "cell_type": "markdown",
   "metadata": {},
   "source": [
    "### WHERE Syntax\n",
    "```sql\n",
    "SELECT column_name(s)\n",
    "FROM table_name\n",
    "WHERE condition;\n",
    "```\n",
    "Use `WHERE NOT` to select records where the condition is False.\n",
    "```sql\n",
    "SELECT column_name(s)\n",
    "FROM table_name\n",
    "WHERE NOT condition;\n",
    "```"
   ]
  },
  {
   "cell_type": "markdown",
   "metadata": {},
   "source": [
    "#### Operators in WHERE Clause\n",
    "<br>\n",
    "\n",
    "| Operator | Description | \n",
    "| :-: | --- |\n",
    "| =\t| Equal\t| \n",
    "| >\t| Greater than\t| \n",
    "| <\t| Less than\t| \n",
    "| >= | Greater than or equal | \n",
    "| <= | Less than or equal | \n",
    "| <> | Not equal*  | \n",
    "| [BETWEEN](#BETWEEN-Operator) | Between a certain range\t| \n",
    "| [LIKE](#LIKE-Operator) | Search for a pattern | \n",
    "| [IN](#IN-Operator) | To specify multiple possible values for a column | \n",
    "\n",
    "*Note: In some versions of SQL this operator may be written as !="
   ]
  },
  {
   "cell_type": "markdown",
   "metadata": {},
   "source": [
    "### Example\n",
    "Get all orders from `Orders` table with `OrderID` 10500."
   ]
  },
  {
   "cell_type": "code",
   "execution_count": 29,
   "metadata": {},
   "outputs": [
    {
     "name": "stdout",
     "output_type": "stream",
     "text": [
      " * sqlite:///northwind.db\n",
      "Done.\n"
     ]
    },
    {
     "data": {
      "text/html": [
       "<table>\n",
       "    <tr>\n",
       "        <th>OrderID</th>\n",
       "        <th>CustomerID</th>\n",
       "        <th>EmployeeID</th>\n",
       "        <th>OrderDate</th>\n",
       "        <th>RequiredDate</th>\n",
       "        <th>ShippedDate</th>\n",
       "        <th>Freight</th>\n",
       "        <th>ShipName</th>\n",
       "        <th>ShipAddress</th>\n",
       "        <th>ShipCity</th>\n",
       "        <th>ShipRegion</th>\n",
       "        <th>ShipPostalCode</th>\n",
       "        <th>ShipCountry</th>\n",
       "    </tr>\n",
       "    <tr>\n",
       "        <td>10500</td>\n",
       "        <td>LAMAI</td>\n",
       "        <td>6</td>\n",
       "        <td>1997-04-09 00:00:00</td>\n",
       "        <td>1997-05-07 00:00:00</td>\n",
       "        <td>1997-04-17 00:00:00</td>\n",
       "        <td>42.68</td>\n",
       "        <td>La maison d&#x27;Asie</td>\n",
       "        <td>1 rue Alsace-Lorraine</td>\n",
       "        <td>Toulouse</td>\n",
       "        <td>None</td>\n",
       "        <td>31000</td>\n",
       "        <td>France</td>\n",
       "    </tr>\n",
       "</table>"
      ],
      "text/plain": [
       "[(10500, 'LAMAI', 6, '1997-04-09 00:00:00', '1997-05-07 00:00:00', '1997-04-17 00:00:00', 42.68, \"La maison d'Asie\", '1 rue Alsace-Lorraine', 'Toulouse', None, '31000', 'France')]"
      ]
     },
     "execution_count": 29,
     "metadata": {},
     "output_type": "execute_result"
    }
   ],
   "source": [
    "%%sql\n",
    "SELECT * FROM Orders\n",
    "WHERE OrderID = 10500;"
   ]
  },
  {
   "cell_type": "markdown",
   "metadata": {},
   "source": [
    "### Example\n",
    "Get all customers from `Customers` table that live in Mexico."
   ]
  },
  {
   "cell_type": "code",
   "execution_count": 21,
   "metadata": {
    "scrolled": false
   },
   "outputs": [
    {
     "name": "stdout",
     "output_type": "stream",
     "text": [
      " * sqlite:///northwind.db\n",
      "Done.\n"
     ]
    },
    {
     "data": {
      "text/html": [
       "<table>\n",
       "    <tr>\n",
       "        <th>CustomerID</th>\n",
       "        <th>CompanyName</th>\n",
       "        <th>ContactName</th>\n",
       "        <th>ContactTitle</th>\n",
       "        <th>Address</th>\n",
       "        <th>City</th>\n",
       "        <th>Region</th>\n",
       "        <th>PostalCode</th>\n",
       "        <th>Country</th>\n",
       "        <th>Phone</th>\n",
       "        <th>Fax</th>\n",
       "    </tr>\n",
       "    <tr>\n",
       "        <td>ANATR</td>\n",
       "        <td>Ana Trujillo Emparedados y helados</td>\n",
       "        <td>Ana Trujillo</td>\n",
       "        <td>Owner</td>\n",
       "        <td>Avda. de la Constitución 2222</td>\n",
       "        <td>México D.F.</td>\n",
       "        <td>None</td>\n",
       "        <td>05021</td>\n",
       "        <td>Mexico</td>\n",
       "        <td>(5) 555-4729</td>\n",
       "        <td>(5) 555-3745</td>\n",
       "    </tr>\n",
       "    <tr>\n",
       "        <td>ANTON</td>\n",
       "        <td>Antonio Moreno Taquería</td>\n",
       "        <td>Inigo Montoya</td>\n",
       "        <td>Owner</td>\n",
       "        <td>Mataderos  2312</td>\n",
       "        <td>México D.F.</td>\n",
       "        <td>None</td>\n",
       "        <td>05023</td>\n",
       "        <td>Mexico</td>\n",
       "        <td>(5) 555-3932</td>\n",
       "        <td>None</td>\n",
       "    </tr>\n",
       "    <tr>\n",
       "        <td>CENTC</td>\n",
       "        <td>Centro comercial Moctezuma</td>\n",
       "        <td>Antonio Banderas</td>\n",
       "        <td>Marketing Manager</td>\n",
       "        <td>Sierras de Granada 9993</td>\n",
       "        <td>México D.F.</td>\n",
       "        <td>None</td>\n",
       "        <td>05022</td>\n",
       "        <td>Mexico</td>\n",
       "        <td>(5) 555-3392</td>\n",
       "        <td>(5) 555-7293</td>\n",
       "    </tr>\n",
       "    <tr>\n",
       "        <td>PERIC</td>\n",
       "        <td>Pericles Comidas clásicas</td>\n",
       "        <td>Salma Hayek</td>\n",
       "        <td>Sales Representative</td>\n",
       "        <td>Calle Dr. Jorge Cash 321</td>\n",
       "        <td>México D.F.</td>\n",
       "        <td>None</td>\n",
       "        <td>05033</td>\n",
       "        <td>Mexico</td>\n",
       "        <td>(5) 552-3745</td>\n",
       "        <td>(5) 545-3745</td>\n",
       "    </tr>\n",
       "    <tr>\n",
       "        <td>TORTU</td>\n",
       "        <td>Tortuga Restaurante</td>\n",
       "        <td>Hugo Sanchis</td>\n",
       "        <td>Owner</td>\n",
       "        <td>Avda. Azteca 123</td>\n",
       "        <td>México D.F.</td>\n",
       "        <td>None</td>\n",
       "        <td>05033</td>\n",
       "        <td>Mexico</td>\n",
       "        <td>(5) 555-2933</td>\n",
       "        <td>None</td>\n",
       "    </tr>\n",
       "</table>"
      ],
      "text/plain": [
       "[('ANATR', 'Ana Trujillo Emparedados y helados', 'Ana Trujillo', 'Owner', 'Avda. de la Constitución 2222', 'México D.F.', None, '05021', 'Mexico', '(5) 555-4729', '(5) 555-3745'),\n",
       " ('ANTON', 'Antonio Moreno Taquería', 'Inigo Montoya', 'Owner', 'Mataderos  2312', 'México D.F.', None, '05023', 'Mexico', '(5) 555-3932', None),\n",
       " ('CENTC', 'Centro comercial Moctezuma', 'Antonio Banderas', 'Marketing Manager', 'Sierras de Granada 9993', 'México D.F.', None, '05022', 'Mexico', '(5) 555-3392', '(5) 555-7293'),\n",
       " ('PERIC', 'Pericles Comidas clásicas', 'Salma Hayek', 'Sales Representative', 'Calle Dr. Jorge Cash 321', 'México D.F.', None, '05033', 'Mexico', '(5) 552-3745', '(5) 545-3745'),\n",
       " ('TORTU', 'Tortuga Restaurante', 'Hugo Sanchis', 'Owner', 'Avda. Azteca 123', 'México D.F.', None, '05033', 'Mexico', '(5) 555-2933', None)]"
      ]
     },
     "execution_count": 21,
     "metadata": {},
     "output_type": "execute_result"
    }
   ],
   "source": [
    "# Use quotation marks for string-type elements\n",
    "%%sql\n",
    "SELECT * FROM Customers\n",
    "WHERE Country = 'Mexico';"
   ]
  },
  {
   "cell_type": "markdown",
   "metadata": {},
   "source": [
    "## BETWEEN Operator\n",
    "- Selects values within a given range. The values can be numbers, text, or dates.\n",
    "- Inclusive: begin and end values are included. "
   ]
  },
  {
   "cell_type": "markdown",
   "metadata": {},
   "source": [
    "### BETWEEN Syntax\n",
    "```sql\n",
    "SELECT column_name(s)\n",
    "FROM table_name\n",
    "WHERE column_name BETWEEN value1 AND value2;\n",
    "```\n",
    "Use `NOT BETWEEN` to query records outside the specified range.\n",
    "```sql\n",
    "SELECT column_name(s)\n",
    "FROM table_name\n",
    "WHERE column_name NOT BETWEEN value1 AND value2;\n",
    "```"
   ]
  },
  {
   "cell_type": "markdown",
   "metadata": {},
   "source": [
    "### Example\n",
    "Get all products that their `UnitPrice` are `BETWEEN` 1 and 7."
   ]
  },
  {
   "cell_type": "code",
   "execution_count": 33,
   "metadata": {},
   "outputs": [
    {
     "name": "stdout",
     "output_type": "stream",
     "text": [
      " * sqlite:///northwind.db\n",
      "Done.\n"
     ]
    },
    {
     "data": {
      "text/html": [
       "<table>\n",
       "    <tr>\n",
       "        <th>ProductID</th>\n",
       "        <th>ProductName</th>\n",
       "        <th>SupplierID</th>\n",
       "        <th>CategoryID</th>\n",
       "        <th>QuantityPerUnit</th>\n",
       "        <th>UnitPrice</th>\n",
       "        <th>UnitsInStock</th>\n",
       "        <th>UnitsOnOrder</th>\n",
       "        <th>ReorderLevel</th>\n",
       "        <th>Discontinued</th>\n",
       "        <th>DiscontinuedDate</th>\n",
       "    </tr>\n",
       "    <tr>\n",
       "        <td>13</td>\n",
       "        <td>Konbu</td>\n",
       "        <td>6</td>\n",
       "        <td>8</td>\n",
       "        <td>2 kg box</td>\n",
       "        <td>6</td>\n",
       "        <td>24</td>\n",
       "        <td>0</td>\n",
       "        <td>5</td>\n",
       "        <td>0</td>\n",
       "        <td>None</td>\n",
       "    </tr>\n",
       "    <tr>\n",
       "        <td>24</td>\n",
       "        <td>Guaraná Fantástica</td>\n",
       "        <td>10</td>\n",
       "        <td>1</td>\n",
       "        <td>12 - 355 ml cans</td>\n",
       "        <td>4.5</td>\n",
       "        <td>20</td>\n",
       "        <td>0</td>\n",
       "        <td>0</td>\n",
       "        <td>1</td>\n",
       "        <td>1996-07-04 00:00:00</td>\n",
       "    </tr>\n",
       "    <tr>\n",
       "        <td>33</td>\n",
       "        <td>Geitost</td>\n",
       "        <td>15</td>\n",
       "        <td>4</td>\n",
       "        <td>500 g</td>\n",
       "        <td>2.5</td>\n",
       "        <td>112</td>\n",
       "        <td>0</td>\n",
       "        <td>20</td>\n",
       "        <td>0</td>\n",
       "        <td>None</td>\n",
       "    </tr>\n",
       "    <tr>\n",
       "        <td>52</td>\n",
       "        <td>Filo Mix</td>\n",
       "        <td>24</td>\n",
       "        <td>5</td>\n",
       "        <td>16 - 2 kg boxes</td>\n",
       "        <td>7</td>\n",
       "        <td>38</td>\n",
       "        <td>0</td>\n",
       "        <td>25</td>\n",
       "        <td>0</td>\n",
       "        <td>None</td>\n",
       "    </tr>\n",
       "</table>"
      ],
      "text/plain": [
       "[(13, 'Konbu', 6, 8, '2 kg box', 6, 24, 0, 5, 0, None),\n",
       " (24, 'Guaraná Fantástica', 10, 1, '12 - 355 ml cans', 4.5, 20, 0, 0, 1, '1996-07-04 00:00:00'),\n",
       " (33, 'Geitost', 15, 4, '500 g', 2.5, 112, 0, 20, 0, None),\n",
       " (52, 'Filo Mix', 24, 5, '16 - 2 kg boxes', 7, 38, 0, 25, 0, None)]"
      ]
     },
     "execution_count": 33,
     "metadata": {},
     "output_type": "execute_result"
    }
   ],
   "source": [
    "%%sql\n",
    "SELECT * FROM Products\n",
    "WHERE UnitPrice BETWEEN 1 AND 7;"
   ]
  },
  {
   "cell_type": "markdown",
   "metadata": {},
   "source": [
    "### Example\n",
    "Get all products that their `UnitPrice` are `NOT BETWEEN` 5 and 15, and their `CategoryID` are not 1, 2, 3, 4 and 5."
   ]
  },
  {
   "cell_type": "code",
   "execution_count": 6,
   "metadata": {},
   "outputs": [
    {
     "name": "stdout",
     "output_type": "stream",
     "text": [
      " * sqlite:///northwind.db\n",
      "Done.\n"
     ]
    },
    {
     "data": {
      "text/html": [
       "<table>\n",
       "    <tr>\n",
       "        <th>ProductID</th>\n",
       "        <th>ProductName</th>\n",
       "        <th>SupplierID</th>\n",
       "        <th>CategoryID</th>\n",
       "        <th>QuantityPerUnit</th>\n",
       "        <th>UnitPrice</th>\n",
       "        <th>UnitsInStock</th>\n",
       "        <th>UnitsOnOrder</th>\n",
       "        <th>ReorderLevel</th>\n",
       "        <th>Discontinued</th>\n",
       "        <th>DiscontinuedDate</th>\n",
       "    </tr>\n",
       "    <tr>\n",
       "        <td>7</td>\n",
       "        <td>Uncle Bob&#x27;s Organic Dried Pears</td>\n",
       "        <td>3</td>\n",
       "        <td>7</td>\n",
       "        <td>12 - 1 lb pkgs.</td>\n",
       "        <td>30</td>\n",
       "        <td>15</td>\n",
       "        <td>0</td>\n",
       "        <td>10</td>\n",
       "        <td>0</td>\n",
       "        <td>None</td>\n",
       "    </tr>\n",
       "    <tr>\n",
       "        <td>9</td>\n",
       "        <td>Mishi Kobe Niku</td>\n",
       "        <td>4</td>\n",
       "        <td>6</td>\n",
       "        <td>18 - 500 g pkgs.</td>\n",
       "        <td>97</td>\n",
       "        <td>29</td>\n",
       "        <td>0</td>\n",
       "        <td>0</td>\n",
       "        <td>1</td>\n",
       "        <td>1996-07-04 00:00:00</td>\n",
       "    </tr>\n",
       "    <tr>\n",
       "        <td>10</td>\n",
       "        <td>Ikura</td>\n",
       "        <td>4</td>\n",
       "        <td>8</td>\n",
       "        <td>12 - 200 ml jars</td>\n",
       "        <td>31</td>\n",
       "        <td>31</td>\n",
       "        <td>0</td>\n",
       "        <td>0</td>\n",
       "        <td>0</td>\n",
       "        <td>None</td>\n",
       "    </tr>\n",
       "    <tr>\n",
       "        <td>13</td>\n",
       "        <td>Konbu</td>\n",
       "        <td>6</td>\n",
       "        <td>8</td>\n",
       "        <td>2 kg box</td>\n",
       "        <td>6</td>\n",
       "        <td>24</td>\n",
       "        <td>0</td>\n",
       "        <td>5</td>\n",
       "        <td>0</td>\n",
       "        <td>None</td>\n",
       "    </tr>\n",
       "    <tr>\n",
       "        <td>14</td>\n",
       "        <td>Tofu</td>\n",
       "        <td>6</td>\n",
       "        <td>7</td>\n",
       "        <td>40 - 100 g pkgs.</td>\n",
       "        <td>23.25</td>\n",
       "        <td>35</td>\n",
       "        <td>0</td>\n",
       "        <td>0</td>\n",
       "        <td>0</td>\n",
       "        <td>None</td>\n",
       "    </tr>\n",
       "    <tr>\n",
       "        <td>17</td>\n",
       "        <td>Alice Mutton</td>\n",
       "        <td>7</td>\n",
       "        <td>6</td>\n",
       "        <td>20 - 1 kg tins</td>\n",
       "        <td>39</td>\n",
       "        <td>0</td>\n",
       "        <td>0</td>\n",
       "        <td>0</td>\n",
       "        <td>1</td>\n",
       "        <td>1996-07-04 00:00:00</td>\n",
       "    </tr>\n",
       "    <tr>\n",
       "        <td>18</td>\n",
       "        <td>Carnarvon Tigers</td>\n",
       "        <td>7</td>\n",
       "        <td>8</td>\n",
       "        <td>16 kg pkg.</td>\n",
       "        <td>62.5</td>\n",
       "        <td>42</td>\n",
       "        <td>0</td>\n",
       "        <td>0</td>\n",
       "        <td>0</td>\n",
       "        <td>None</td>\n",
       "    </tr>\n",
       "    <tr>\n",
       "        <td>28</td>\n",
       "        <td>Rössle Sauerkraut</td>\n",
       "        <td>12</td>\n",
       "        <td>7</td>\n",
       "        <td>25 - 825 g cans</td>\n",
       "        <td>45.6</td>\n",
       "        <td>26</td>\n",
       "        <td>0</td>\n",
       "        <td>0</td>\n",
       "        <td>1</td>\n",
       "        <td>1996-07-04 00:00:00</td>\n",
       "    </tr>\n",
       "    <tr>\n",
       "        <td>29</td>\n",
       "        <td>Thüringer Rostbratwurst</td>\n",
       "        <td>12</td>\n",
       "        <td>6</td>\n",
       "        <td>50 bags x 30 sausgs.</td>\n",
       "        <td>123.79</td>\n",
       "        <td>0</td>\n",
       "        <td>0</td>\n",
       "        <td>0</td>\n",
       "        <td>1</td>\n",
       "        <td>1996-07-04 00:00:00</td>\n",
       "    </tr>\n",
       "    <tr>\n",
       "        <td>30</td>\n",
       "        <td>Nord-Ost Matjeshering</td>\n",
       "        <td>13</td>\n",
       "        <td>8</td>\n",
       "        <td>10 - 200 g glasses</td>\n",
       "        <td>25.89</td>\n",
       "        <td>10</td>\n",
       "        <td>0</td>\n",
       "        <td>15</td>\n",
       "        <td>0</td>\n",
       "        <td>None</td>\n",
       "    </tr>\n",
       "    <tr>\n",
       "        <td>36</td>\n",
       "        <td>Inlagd Sill</td>\n",
       "        <td>17</td>\n",
       "        <td>8</td>\n",
       "        <td>24 - 250 g  jars</td>\n",
       "        <td>19</td>\n",
       "        <td>112</td>\n",
       "        <td>0</td>\n",
       "        <td>20</td>\n",
       "        <td>0</td>\n",
       "        <td>None</td>\n",
       "    </tr>\n",
       "    <tr>\n",
       "        <td>37</td>\n",
       "        <td>Gravad lax</td>\n",
       "        <td>17</td>\n",
       "        <td>8</td>\n",
       "        <td>12 - 500 g pkgs.</td>\n",
       "        <td>26</td>\n",
       "        <td>11</td>\n",
       "        <td>50</td>\n",
       "        <td>25</td>\n",
       "        <td>0</td>\n",
       "        <td>None</td>\n",
       "    </tr>\n",
       "    <tr>\n",
       "        <td>40</td>\n",
       "        <td>Boston Crab Meat</td>\n",
       "        <td>19</td>\n",
       "        <td>8</td>\n",
       "        <td>24 - 4 oz tins</td>\n",
       "        <td>18.4</td>\n",
       "        <td>123</td>\n",
       "        <td>0</td>\n",
       "        <td>30</td>\n",
       "        <td>0</td>\n",
       "        <td>None</td>\n",
       "    </tr>\n",
       "    <tr>\n",
       "        <td>41</td>\n",
       "        <td>Jack&#x27;s New England Clam Chowder</td>\n",
       "        <td>19</td>\n",
       "        <td>8</td>\n",
       "        <td>12 - 12 oz cans</td>\n",
       "        <td>9.65</td>\n",
       "        <td>85</td>\n",
       "        <td>0</td>\n",
       "        <td>10</td>\n",
       "        <td>0</td>\n",
       "        <td>None</td>\n",
       "    </tr>\n",
       "    <tr>\n",
       "        <td>45</td>\n",
       "        <td>Rogede sild</td>\n",
       "        <td>21</td>\n",
       "        <td>8</td>\n",
       "        <td>1k pkg.</td>\n",
       "        <td>9.5</td>\n",
       "        <td>5</td>\n",
       "        <td>70</td>\n",
       "        <td>15</td>\n",
       "        <td>0</td>\n",
       "        <td>None</td>\n",
       "    </tr>\n",
       "    <tr>\n",
       "        <td>46</td>\n",
       "        <td>Spegesild</td>\n",
       "        <td>21</td>\n",
       "        <td>8</td>\n",
       "        <td>4 - 450 g glasses</td>\n",
       "        <td>12</td>\n",
       "        <td>95</td>\n",
       "        <td>0</td>\n",
       "        <td>0</td>\n",
       "        <td>0</td>\n",
       "        <td>None</td>\n",
       "    </tr>\n",
       "    <tr>\n",
       "        <td>51</td>\n",
       "        <td>Manjimup Dried Apples</td>\n",
       "        <td>24</td>\n",
       "        <td>7</td>\n",
       "        <td>50 - 300 g pkgs.</td>\n",
       "        <td>53</td>\n",
       "        <td>20</td>\n",
       "        <td>0</td>\n",
       "        <td>10</td>\n",
       "        <td>0</td>\n",
       "        <td>None</td>\n",
       "    </tr>\n",
       "    <tr>\n",
       "        <td>53</td>\n",
       "        <td>Perth Pasties</td>\n",
       "        <td>24</td>\n",
       "        <td>6</td>\n",
       "        <td>48 pieces</td>\n",
       "        <td>32.8</td>\n",
       "        <td>0</td>\n",
       "        <td>0</td>\n",
       "        <td>0</td>\n",
       "        <td>1</td>\n",
       "        <td>1996-07-04 00:00:00</td>\n",
       "    </tr>\n",
       "    <tr>\n",
       "        <td>54</td>\n",
       "        <td>Tourtière</td>\n",
       "        <td>25</td>\n",
       "        <td>6</td>\n",
       "        <td>16 pies</td>\n",
       "        <td>7.45</td>\n",
       "        <td>21</td>\n",
       "        <td>0</td>\n",
       "        <td>10</td>\n",
       "        <td>0</td>\n",
       "        <td>None</td>\n",
       "    </tr>\n",
       "    <tr>\n",
       "        <td>55</td>\n",
       "        <td>Pâté chinois</td>\n",
       "        <td>25</td>\n",
       "        <td>6</td>\n",
       "        <td>24 boxes x 2 pies</td>\n",
       "        <td>24</td>\n",
       "        <td>115</td>\n",
       "        <td>0</td>\n",
       "        <td>20</td>\n",
       "        <td>0</td>\n",
       "        <td>None</td>\n",
       "    </tr>\n",
       "    <tr>\n",
       "        <td>58</td>\n",
       "        <td>Escargots de Bourgogne</td>\n",
       "        <td>27</td>\n",
       "        <td>8</td>\n",
       "        <td>24 pieces</td>\n",
       "        <td>13.25</td>\n",
       "        <td>62</td>\n",
       "        <td>0</td>\n",
       "        <td>20</td>\n",
       "        <td>0</td>\n",
       "        <td>None</td>\n",
       "    </tr>\n",
       "    <tr>\n",
       "        <td>73</td>\n",
       "        <td>Röd Kaviar</td>\n",
       "        <td>17</td>\n",
       "        <td>8</td>\n",
       "        <td>24 - 150 g jars</td>\n",
       "        <td>15</td>\n",
       "        <td>101</td>\n",
       "        <td>0</td>\n",
       "        <td>5</td>\n",
       "        <td>0</td>\n",
       "        <td>None</td>\n",
       "    </tr>\n",
       "    <tr>\n",
       "        <td>74</td>\n",
       "        <td>Longlife Tofu</td>\n",
       "        <td>4</td>\n",
       "        <td>7</td>\n",
       "        <td>5 kg pkg.</td>\n",
       "        <td>10</td>\n",
       "        <td>4</td>\n",
       "        <td>20</td>\n",
       "        <td>5</td>\n",
       "        <td>0</td>\n",
       "        <td>None</td>\n",
       "    </tr>\n",
       "</table>"
      ],
      "text/plain": [
       "[(7, \"Uncle Bob's Organic Dried Pears\", 3, 7, '12 - 1 lb pkgs.', 30, 15, 0, 10, 0, None),\n",
       " (9, 'Mishi Kobe Niku', 4, 6, '18 - 500 g pkgs.', 97, 29, 0, 0, 1, '1996-07-04 00:00:00'),\n",
       " (10, 'Ikura', 4, 8, '12 - 200 ml jars', 31, 31, 0, 0, 0, None),\n",
       " (13, 'Konbu', 6, 8, '2 kg box', 6, 24, 0, 5, 0, None),\n",
       " (14, 'Tofu', 6, 7, '40 - 100 g pkgs.', 23.25, 35, 0, 0, 0, None),\n",
       " (17, 'Alice Mutton', 7, 6, '20 - 1 kg tins', 39, 0, 0, 0, 1, '1996-07-04 00:00:00'),\n",
       " (18, 'Carnarvon Tigers', 7, 8, '16 kg pkg.', 62.5, 42, 0, 0, 0, None),\n",
       " (28, 'Rössle Sauerkraut', 12, 7, '25 - 825 g cans', 45.6, 26, 0, 0, 1, '1996-07-04 00:00:00'),\n",
       " (29, 'Thüringer Rostbratwurst', 12, 6, '50 bags x 30 sausgs.', 123.79, 0, 0, 0, 1, '1996-07-04 00:00:00'),\n",
       " (30, 'Nord-Ost Matjeshering', 13, 8, '10 - 200 g glasses', 25.89, 10, 0, 15, 0, None),\n",
       " (36, 'Inlagd Sill', 17, 8, '24 - 250 g  jars', 19, 112, 0, 20, 0, None),\n",
       " (37, 'Gravad lax', 17, 8, '12 - 500 g pkgs.', 26, 11, 50, 25, 0, None),\n",
       " (40, 'Boston Crab Meat', 19, 8, '24 - 4 oz tins', 18.4, 123, 0, 30, 0, None),\n",
       " (41, \"Jack's New England Clam Chowder\", 19, 8, '12 - 12 oz cans', 9.65, 85, 0, 10, 0, None),\n",
       " (45, 'Rogede sild', 21, 8, '1k pkg.', 9.5, 5, 70, 15, 0, None),\n",
       " (46, 'Spegesild', 21, 8, '4 - 450 g glasses', 12, 95, 0, 0, 0, None),\n",
       " (51, 'Manjimup Dried Apples', 24, 7, '50 - 300 g pkgs.', 53, 20, 0, 10, 0, None),\n",
       " (53, 'Perth Pasties', 24, 6, '48 pieces', 32.8, 0, 0, 0, 1, '1996-07-04 00:00:00'),\n",
       " (54, 'Tourtière', 25, 6, '16 pies', 7.45, 21, 0, 10, 0, None),\n",
       " (55, 'Pâté chinois', 25, 6, '24 boxes x 2 pies', 24, 115, 0, 20, 0, None),\n",
       " (58, 'Escargots de Bourgogne', 27, 8, '24 pieces', 13.25, 62, 0, 20, 0, None),\n",
       " (73, 'Röd Kaviar', 17, 8, '24 - 150 g jars', 15, 101, 0, 5, 0, None),\n",
       " (74, 'Longlife Tofu', 4, 7, '5 kg pkg.', 10, 4, 20, 5, 0, None)]"
      ]
     },
     "execution_count": 6,
     "metadata": {},
     "output_type": "execute_result"
    }
   ],
   "source": [
    "%%sql\n",
    "SELECT * FROM Products\n",
    "WHERE (UnitPrice NOT BETWEEN 1 AND 5) AND (CategoryID NOT BETWEEN 1 AND 5)"
   ]
  },
  {
   "cell_type": "markdown",
   "metadata": {},
   "source": [
    "## LIKE Operator\n",
    "- Used in a `WHERE` clause to search for a specified pattern in a column.\n",
    "- There are two wildcards often used in conjunction with the `LIKE` operator: <br>\n",
    "`%` represents zero, one, or multiple characters, `_` represents a single character\n",
    "- The percent sign and the underscore can also be used in combinations."
   ]
  },
  {
   "cell_type": "markdown",
   "metadata": {},
   "source": [
    "<div class = \"alert alert-block alert-info\">\n",
    "    <p>\n",
    "        <b> Note: </b>\n",
    "        MS Access uses an asterisk (*) instead of the percent sign (%), and a question mark (?) instead of the underscore (_)\n",
    "    <p>\n",
    "</div>"
   ]
  },
  {
   "cell_type": "markdown",
   "metadata": {},
   "source": [
    "### LIKE Syntax\n",
    "```sql\n",
    "SELECT column_name(s)\n",
    "FROM table_name\n",
    "WHERE columnN LIKE pattern;\n",
    "```\n",
    "\n",
    "| Commands | Description |\n",
    "| :-: | :-- |\n",
    "| `'a%'`| Starts with 'a'| \n",
    "| `'%a'`| Ends with 'a'| \n",
    "| `'%a%'`| Have 'a' in any position| \n",
    "| `'_a%'`| Have 'a' in second position| \n",
    "| `'a_%'`| Starts with 'a' and at least 2 characters| \n",
    "| `'a__%'`| Starts with 'a' and at least 3 characters| \n",
    "| `'a%b'`| Starts with 'a' and ends with 'b'| \n",
    "\n"
   ]
  },
  {
   "cell_type": "markdown",
   "metadata": {},
   "source": [
    "### Example\n",
    "Find records in `Customers` table where `CompanyName` starts with letter `A`."
   ]
  },
  {
   "cell_type": "code",
   "execution_count": 19,
   "metadata": {},
   "outputs": [
    {
     "name": "stdout",
     "output_type": "stream",
     "text": [
      " * sqlite:///northwind.db\n",
      "Done.\n"
     ]
    },
    {
     "data": {
      "text/html": [
       "<table>\n",
       "    <tr>\n",
       "        <th>CustomerID</th>\n",
       "        <th>CompanyName</th>\n",
       "        <th>ContactName</th>\n",
       "        <th>ContactTitle</th>\n",
       "        <th>Address</th>\n",
       "        <th>City</th>\n",
       "        <th>Region</th>\n",
       "        <th>PostalCode</th>\n",
       "        <th>Country</th>\n",
       "        <th>Phone</th>\n",
       "        <th>Fax</th>\n",
       "    </tr>\n",
       "    <tr>\n",
       "        <td>ALFKI</td>\n",
       "        <td>Alfreds Futterkiste</td>\n",
       "        <td>Maria Anders</td>\n",
       "        <td>Sales Representative</td>\n",
       "        <td>Obere Str. 57</td>\n",
       "        <td>Berlin</td>\n",
       "        <td>None</td>\n",
       "        <td>12209</td>\n",
       "        <td>Germany</td>\n",
       "        <td>030-0074321</td>\n",
       "        <td>030-0076545</td>\n",
       "    </tr>\n",
       "    <tr>\n",
       "        <td>ANATR</td>\n",
       "        <td>Ana Trujillo Emparedados y helados</td>\n",
       "        <td>Ana Trujillo</td>\n",
       "        <td>Owner</td>\n",
       "        <td>Avda. de la Constitución 2222</td>\n",
       "        <td>México D.F.</td>\n",
       "        <td>None</td>\n",
       "        <td>05021</td>\n",
       "        <td>Mexico</td>\n",
       "        <td>(5) 555-4729</td>\n",
       "        <td>(5) 555-3745</td>\n",
       "    </tr>\n",
       "    <tr>\n",
       "        <td>ANTON</td>\n",
       "        <td>Antonio Moreno Taquería</td>\n",
       "        <td>Inigo Montoya</td>\n",
       "        <td>Owner</td>\n",
       "        <td>Mataderos  2312</td>\n",
       "        <td>México D.F.</td>\n",
       "        <td>None</td>\n",
       "        <td>05023</td>\n",
       "        <td>Mexico</td>\n",
       "        <td>(5) 555-3932</td>\n",
       "        <td>None</td>\n",
       "    </tr>\n",
       "    <tr>\n",
       "        <td>AROUT</td>\n",
       "        <td>Around the Horn</td>\n",
       "        <td>Thomas Hardy</td>\n",
       "        <td>Sales Representative</td>\n",
       "        <td>120 Hanover Sq.</td>\n",
       "        <td>London</td>\n",
       "        <td>None</td>\n",
       "        <td>WA1 1DP</td>\n",
       "        <td>UK</td>\n",
       "        <td>(171) 555-7788</td>\n",
       "        <td>(171) 555-6750</td>\n",
       "    </tr>\n",
       "</table>"
      ],
      "text/plain": [
       "[('ALFKI', 'Alfreds Futterkiste', 'Maria Anders', 'Sales Representative', 'Obere Str. 57', 'Berlin', None, '12209', 'Germany', '030-0074321', '030-0076545'),\n",
       " ('ANATR', 'Ana Trujillo Emparedados y helados', 'Ana Trujillo', 'Owner', 'Avda. de la Constitución 2222', 'México D.F.', None, '05021', 'Mexico', '(5) 555-4729', '(5) 555-3745'),\n",
       " ('ANTON', 'Antonio Moreno Taquería', 'Inigo Montoya', 'Owner', 'Mataderos  2312', 'México D.F.', None, '05023', 'Mexico', '(5) 555-3932', None),\n",
       " ('AROUT', 'Around the Horn', 'Thomas Hardy', 'Sales Representative', '120 Hanover Sq.', 'London', None, 'WA1 1DP', 'UK', '(171) 555-7788', '(171) 555-6750')]"
      ]
     },
     "execution_count": 19,
     "metadata": {},
     "output_type": "execute_result"
    }
   ],
   "source": [
    "%%sql\n",
    "SELECT *\n",
    "FROM Customers\n",
    "WHERE CompanyName LIKE \"a%\""
   ]
  },
  {
   "cell_type": "markdown",
   "metadata": {},
   "source": [
    "### Example\n",
    "Find records in `Customers` table where `CustomerName` starts with letter `A` and ends with letter `O`."
   ]
  },
  {
   "cell_type": "code",
   "execution_count": 25,
   "metadata": {},
   "outputs": [
    {
     "name": "stdout",
     "output_type": "stream",
     "text": [
      " * sqlite:///northwind.db\n",
      "Done.\n"
     ]
    },
    {
     "data": {
      "text/html": [
       "<table>\n",
       "    <tr>\n",
       "        <th>CustomerID</th>\n",
       "        <th>CompanyName</th>\n",
       "        <th>ContactName</th>\n",
       "        <th>ContactTitle</th>\n",
       "        <th>Address</th>\n",
       "        <th>City</th>\n",
       "        <th>Region</th>\n",
       "        <th>PostalCode</th>\n",
       "        <th>Country</th>\n",
       "        <th>Phone</th>\n",
       "        <th>Fax</th>\n",
       "    </tr>\n",
       "    <tr>\n",
       "        <td>ANATR</td>\n",
       "        <td>Ana Trujillo Emparedados y helados</td>\n",
       "        <td>Ana Trujillo</td>\n",
       "        <td>Owner</td>\n",
       "        <td>Avda. de la Constitución 2222</td>\n",
       "        <td>México D.F.</td>\n",
       "        <td>None</td>\n",
       "        <td>05021</td>\n",
       "        <td>Mexico</td>\n",
       "        <td>(5) 555-4729</td>\n",
       "        <td>(5) 555-3745</td>\n",
       "    </tr>\n",
       "    <tr>\n",
       "        <td>ROMEY</td>\n",
       "        <td>Romero y tomillo</td>\n",
       "        <td>Alejandra Camino</td>\n",
       "        <td>Accounting Manager</td>\n",
       "        <td>Gran Vía, 1</td>\n",
       "        <td>Madrid</td>\n",
       "        <td>None</td>\n",
       "        <td>28001</td>\n",
       "        <td>Spain</td>\n",
       "        <td>(91) 745 6200</td>\n",
       "        <td>(91) 745 6210</td>\n",
       "    </tr>\n",
       "</table>"
      ],
      "text/plain": [
       "[('ANATR', 'Ana Trujillo Emparedados y helados', 'Ana Trujillo', 'Owner', 'Avda. de la Constitución 2222', 'México D.F.', None, '05021', 'Mexico', '(5) 555-4729', '(5) 555-3745'),\n",
       " ('ROMEY', 'Romero y tomillo', 'Alejandra Camino', 'Accounting Manager', 'Gran Vía, 1', 'Madrid', None, '28001', 'Spain', '(91) 745 6200', '(91) 745 6210')]"
      ]
     },
     "execution_count": 25,
     "metadata": {},
     "output_type": "execute_result"
    }
   ],
   "source": [
    "%%sql\n",
    "SELECT *\n",
    "FROM Customers\n",
    "WHERE ContactName LIKE 'a%o'"
   ]
  },
  {
   "cell_type": "markdown",
   "metadata": {},
   "source": [
    "### Wildcard Characters\n",
    "- Used to substitute one or more characters in a string."
   ]
  },
  {
   "cell_type": "markdown",
   "metadata": {},
   "source": [
    "#### Wildcard Characters in MS Access\n",
    "\n",
    "| Symbol\t| Description\t| Example |\n",
    "| :-: | :-- | :-- |\n",
    "|`*`|\tRepresents zero or more characters\t|`bl*` finds bl, black, blue, and blob|\n",
    "|`?`|\tRepresents a single character\t|`h?t` finds hot, hat, and hit|\n",
    "|`[]`|\tRepresents any single character within the brackets\t|`h[oa]t` finds hot and hat, but not hit|\n",
    "|`!`|\tRepresents any character not in the brackets\t|`h[!oa]t` finds hit, but not hot and hat|\n",
    "|`-`|\tRepresents a range of characters\t|`c[a-b]t` finds cat and cbt|\n",
    "|`#`|\tRepresents any single numeric character\t|`2#5` finds 205, 215, 225, 235, 245, 255, 265, 275, 285, and 295|"
   ]
  },
  {
   "cell_type": "markdown",
   "metadata": {},
   "source": [
    "#### Wildcard Characters in SQL Server\n",
    "\n",
    "|Symbol\t|Description\t|Example|\n",
    "|:-:|:--|:--|\n",
    "|`%`|\tRepresents zero or more characters\t|`bl%` finds bl, black, blue, and blob|\n",
    "|`_`|\tRepresents a single character\t|`h_t` finds hot, hat, and hit|\n",
    "|`[]`|\tRepresents any single character within the brackets\t|`h[oa]t` finds hot and hat, but not hit|\n",
    "|`^`|\tRepresents any character not in the brackets\t|`h[^oa]t` finds hit, but not hot and hat|\n",
    "|`-`|\tRepresents a range of characters\t|`c[a-b]t` finds cat and cbt|"
   ]
  },
  {
   "cell_type": "code",
   "execution_count": null,
   "metadata": {},
   "outputs": [],
   "source": []
  }
 ],
 "metadata": {
  "kernelspec": {
   "display_name": "Python 3",
   "language": "python",
   "name": "python3"
  },
  "language_info": {
   "codemirror_mode": {
    "name": "ipython",
    "version": 3
   },
   "file_extension": ".py",
   "mimetype": "text/x-python",
   "name": "python",
   "nbconvert_exporter": "python",
   "pygments_lexer": "ipython3",
   "version": "3.7.1"
  }
 },
 "nbformat": 4,
 "nbformat_minor": 4
}
